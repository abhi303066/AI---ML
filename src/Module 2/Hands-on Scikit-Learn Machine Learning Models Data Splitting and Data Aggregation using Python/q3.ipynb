{
 "cells": [
  {
   "cell_type": "code",
   "execution_count": 1,
   "metadata": {},
   "outputs": [],
   "source": [
    "# Question 3: Advanced Model Evaluation with Feature Selection for House Prices\n",
    "\n",
    "# Step 1: Load a house prices dataset from CSV (Assume you have a house_prices.csv ).\n",
    "# Step 2: Apply feature selection and create a train-test split.\n",
    "# Step 3: Train a Lasso Regression model.\n",
    "# Step 4: Perform model evaluation and hyperparameter tuning using GridSearchCV."
   ]
  },
  {
   "cell_type": "code",
   "execution_count": 4,
   "metadata": {},
   "outputs": [
    {
     "name": "stdout",
     "output_type": "stream",
     "text": [
      "Best Alpha: 0.1\n",
      "Test MSE: 610.4549093291427\n",
      "Test R² Score: 0.9769422309236729\n"
     ]
    }
   ],
   "source": [
    "import pandas as pd\n",
    "import numpy as np\n",
    "from sklearn.datasets import make_regression\n",
    "from sklearn.model_selection import train_test_split, GridSearchCV\n",
    "from sklearn.linear_model import Lasso\n",
    "from sklearn.preprocessing import StandardScaler\n",
    "from sklearn.pipeline import Pipeline\n",
    "from sklearn.feature_selection import SelectFromModel\n",
    "from sklearn.metrics import mean_squared_error, r2_score\n",
    "\n",
    "# Step 1: Create synthetic house prices dataset\n",
    "X, y = make_regression(n_samples=500, n_features=15, n_informative=10, noise=25, random_state=1)\n",
    "df = pd.DataFrame(X, columns=[f\"Feature_{i}\" for i in range(X.shape[1])])\n",
    "df[\"Price\"] = y\n",
    "\n",
    "# Step 2: Split data into train and test sets\n",
    "X = df.drop(\"Price\", axis=1)\n",
    "y = df[\"Price\"]\n",
    "X_train, X_test, y_train, y_test = train_test_split(X, y, test_size=0.2, random_state=42)\n",
    "\n",
    "# Step 3: Build pipeline with feature selection and Lasso regression\n",
    "pipeline = Pipeline([\n",
    "    (\"scaler\", StandardScaler()),\n",
    "    (\"feature_selector\", SelectFromModel(Lasso(alpha=0.1))),\n",
    "    (\"regressor\", Lasso())\n",
    "])\n",
    "\n",
    "# Step 4: Hyperparameter tuning with GridSearchCV\n",
    "param_grid = {\n",
    "    \"regressor__alpha\": [0.01, 0.1, 1, 10, 100]\n",
    "}\n",
    "\n",
    "grid_search = GridSearchCV(pipeline, param_grid, cv=5, scoring='neg_mean_squared_error')\n",
    "grid_search.fit(X_train, y_train)\n",
    "\n",
    "# Evaluate best model\n",
    "best_model = grid_search.best_estimator_\n",
    "y_pred = best_model.predict(X_test)\n",
    "\n",
    "print(\"Best Alpha:\", grid_search.best_params_['regressor__alpha'])\n",
    "print(\"Test MSE:\", mean_squared_error(y_test, y_pred))\n",
    "print(\"Test R² Score:\", r2_score(y_test, y_pred))\n"
   ]
  }
 ],
 "metadata": {
  "kernelspec": {
   "display_name": "Python 3",
   "language": "python",
   "name": "python3"
  },
  "language_info": {
   "codemirror_mode": {
    "name": "ipython",
    "version": 3
   },
   "file_extension": ".py",
   "mimetype": "text/x-python",
   "name": "python",
   "nbconvert_exporter": "python",
   "pygments_lexer": "ipython3",
   "version": "3.10.12"
  }
 },
 "nbformat": 4,
 "nbformat_minor": 2
}
