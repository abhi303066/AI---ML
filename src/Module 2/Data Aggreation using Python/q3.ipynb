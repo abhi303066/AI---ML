{
 "cells": [
  {
   "cell_type": "markdown",
   "metadata": {},
   "source": [
    "Pivot Tables & Advanced Aggregations<br>\n",
    "Objective: Utilize pivot tables for complex aggregation tasks."
   ]
  },
  {
   "cell_type": "markdown",
   "metadata": {},
   "source": [
    "Task 1: Creating a Basic Pivot Table<br>\n",
    "Task: Create a pivot table that shows the total sales for each 'category' across 'years'.<br>\n",
    "Steps:<br>\n",
    "19. Use pandas pivot_table() function.<br>\n",
    "20. Set index='year' and columns='category' .<br>\n",
    "21. Define the value parameter as 'sales' and aggregation function as np.sum ."
   ]
  },
  {
   "cell_type": "code",
   "execution_count": 1,
   "metadata": {},
   "outputs": [
    {
     "name": "stdout",
     "output_type": "stream",
     "text": [
      "Task 1: Total Sales per Category by Year:\n",
      "Category  Furniture  Office Supplies  Technology\n",
      "Year                                            \n",
      "2014      157192.89        151776.41   175278.26\n",
      "2015      170518.26        137233.42   162780.78\n",
      "2016      198901.55        183940.07   226364.24\n",
      "2017      215387.28        246097.09   271730.82\n"
     ]
    },
    {
     "name": "stderr",
     "output_type": "stream",
     "text": [
      "/tmp/ipykernel_61127/618245416.py:15: FutureWarning: The provided callable <function sum at 0x7e449ff57520> is currently using DataFrameGroupBy.sum. In a future version of pandas, the provided callable will be used directly. To keep current behavior pass the string \"sum\" instead.\n",
      "  pivot = pd.pivot_table(\n"
     ]
    }
   ],
   "source": [
    "import pandas as pd\n",
    "import numpy as np\n",
    "\n",
    "# Load the dataset\n",
    "df = pd.read_csv('Raw Data (1).csv')\n",
    "\n",
    "# Ensure 'Order Date' is a datetime type\n",
    "df['Order Date'] = pd.to_datetime(df['Order Date'],dayfirst=True)\n",
    "\n",
    "# Extract year and month from 'Order Date'\n",
    "df['Year'] = df['Order Date'].dt.year\n",
    "df['Month'] = df['Order Date'].dt.month\n",
    "\n",
    "# Create basic pivot table: Total Sales per Category by Year\n",
    "pivot = pd.pivot_table(\n",
    "    df,\n",
    "    index='Year',\n",
    "    columns='Category',\n",
    "    values='Sales',\n",
    "    aggfunc=np.sum\n",
    ")\n",
    "\n",
    "print(\"Task 1: Total Sales per Category by Year:\")\n",
    "print(pivot)\n"
   ]
  },
  {
   "cell_type": "markdown",
   "metadata": {},
   "source": [
    "Task 2: Pivot Table with Multiple Aggregations<br>\n",
    "\n",
    "Task: Generate a pivot table with both mean and max of 'profit' for 'category' each month.<br>\n",
    "Steps:<br>\n",
    "22. Create a pivot table.<br>\n",
    "23. Use aggfunc=['mean', 'max'] .<br>\n",
    "24. Analyze the pivot table output."
   ]
  },
  {
   "cell_type": "code",
   "execution_count": 2,
   "metadata": {},
   "outputs": [
    {
     "name": "stdout",
     "output_type": "stream",
     "text": [
      "\n",
      "Task 2: Mean and Max Profit per Category by Month:\n",
      "                mean                                   max                  \\\n",
      "Category  Furniture Office Supplies  Technology Furniture Office Supplies   \n",
      "Month                                                                       \n",
      "1        -24.002593       27.505507   66.232055    746.41         2504.22   \n",
      "2         11.009206       24.146780   88.784333    266.45         1270.99   \n",
      "3          5.514000       25.254976  122.303662    610.86         3177.48   \n",
      "4         10.582246       11.331265   48.463243    378.27         1906.49   \n",
      "5         15.348733       20.022217   82.679328    770.35         1276.49   \n",
      "6          6.774828       24.996321   71.551550    580.54         1143.89   \n",
      "7          8.613902        5.615085   75.947669    388.81          390.98   \n",
      "8          0.033145       28.100710   69.462137    373.78         1453.12   \n",
      "9         19.361560       19.999087   59.738686    609.72         4630.48   \n",
      "10       -16.192246       23.009474  152.118790    481.47         1906.49   \n",
      "11        12.288495       17.949063   55.696111   1013.13          792.27   \n",
      "12        19.561220       21.689541   75.161660    673.88         4946.37   \n",
      "\n",
      "                     \n",
      "Category Technology  \n",
      "Month                \n",
      "1           1379.98  \n",
      "2           2799.98  \n",
      "3           6719.98  \n",
      "4           2365.98  \n",
      "5           1159.99  \n",
      "6           1668.21  \n",
      "7            944.99  \n",
      "8           1416.80  \n",
      "9           1371.98  \n",
      "10          8399.98  \n",
      "11          5039.99  \n",
      "12          2302.97  \n"
     ]
    }
   ],
   "source": [
    "import pandas as pd\n",
    "import numpy as np\n",
    "\n",
    "# Load the dataset\n",
    "df = pd.read_csv('Raw Data (1).csv')\n",
    "\n",
    "# Fix date format (dd-mm-yyyy)\n",
    "df['Order Date'] = pd.to_datetime(df['Order Date'], dayfirst=True)\n",
    "\n",
    "# Extract year and month\n",
    "df['Year'] = df['Order Date'].dt.year\n",
    "df['Month'] = df['Order Date'].dt.month\n",
    "\n",
    "\n",
    "\n",
    "# Task 2: Mean and max profit by category and month\n",
    "profit_pivot = pd.pivot_table(df, index='Month', columns='Category', values='Profit', aggfunc=['mean', 'max'])\n",
    "print(\"\\nTask 2: Mean and Max Profit per Category by Month:\\n\", profit_pivot)\n",
    "\n",
    "\n"
   ]
  },
  {
   "cell_type": "markdown",
   "metadata": {},
   "source": [
    "Task 3: Advanced Pivot Table with Margins<br>\n",
    "\n",
    "Task: Create a pivot table that includes subtotals for each 'region' and 'category'.<br>\n",
    "Steps:<br>\n",
    "25. Use pivot_table() with margins=True .<br>\n",
    "26. Set the index and columns appropriately.<br>\n",
    "27. Validate subtotal correctness by summing manually."
   ]
  },
  {
   "cell_type": "code",
   "execution_count": 3,
   "metadata": {},
   "outputs": [
    {
     "name": "stdout",
     "output_type": "stream",
     "text": [
      "\n",
      "Task 3: Sales by Region and Category with Subtotals:\n",
      " Category              Furniture  Office Supplies  Technology       Total\n",
      "region                                                                  \n",
      "Alabama                 6332.48          4209.08     8969.08    19510.64\n",
      "Arizona                13525.33         10005.83    11750.86    35282.02\n",
      "Arkansas                3187.55          4565.33     3925.25    11678.13\n",
      "California            156064.67        142351.89   159271.12   457687.68\n",
      "Colorado               13243.05          7898.76    10966.31    32108.12\n",
      "Connecticut             5174.99          5418.34     2791.03    13384.36\n",
      "Delaware                4759.32          8129.53    14562.22    27451.07\n",
      "District of Columbia    1346.58           138.52     1379.92     2865.02\n",
      "Florida                22987.04         19518.65    46968.04    89473.73\n",
      "Georgia                 8321.48         26715.81    14058.55    49095.84\n",
      "Idaho                   2595.48           949.50      837.51     4382.49\n",
      "Illinois               28274.57         19907.92    31983.67    80166.16\n",
      "Indiana                11496.71         15735.40    26323.25    53555.36\n",
      "Iowa                    2642.31           783.15     1154.30     4579.76\n",
      "Kansas                   111.12          1954.15      849.04     2914.31\n",
      "Kentucky               12126.84         11894.27    12570.64    36591.75\n",
      "Louisiana               2963.03          3423.16     2830.84     9217.03\n",
      "Maine                    109.48           399.80      761.25     1270.53\n",
      "Maryland                9149.25         10390.23     4166.04    23705.52\n",
      "Massachusetts          10919.07         11988.74     5726.63    28634.44\n",
      "Michigan               22321.10         37723.76    16224.75    76269.61\n",
      "Minnesota               7611.35         19406.54     2845.26    29863.15\n",
      "Mississippi             4317.85          3631.16     2822.33    10771.34\n",
      "Missouri                2936.45         12182.18     7086.52    22205.15\n",
      "Montana                   63.98          1862.44     3662.93     5589.35\n",
      "Nebraska                1944.70          2234.49     3285.74     7464.93\n",
      "Nevada                  4635.17          6956.93     5137.00    16729.10\n",
      "New Hampshire           1886.47          1769.25     3636.80     7292.52\n",
      "New Jersey              6307.05         14956.11    14501.16    35764.32\n",
      "New Mexico              1701.41          1384.19     1697.94     4783.54\n",
      "New York               93372.69         90020.03   127483.48   310876.20\n",
      "North Carolina         15155.47         14364.52    26083.10    55603.09\n",
      "North Dakota                NaN           919.91         NaN      919.91\n",
      "Ohio                   24199.13         18383.04    35676.04    78258.21\n",
      "Oklahoma                8284.10          5030.84     6368.45    19683.39\n",
      "Oregon                  6338.13          5271.44     5821.57    17431.14\n",
      "Pennsylvania           39354.94         34941.78    42215.30   116512.02\n",
      "Rhode Island            5918.76          6234.79    10474.41    22627.96\n",
      "South Carolina          3078.25          3811.84     1591.62     8481.71\n",
      "South Dakota             324.90           597.72      392.94     1315.56\n",
      "Tennessee              13506.74         12347.88     4807.30    30661.92\n",
      "Texas                  60593.34         44490.43    65104.21   170187.98\n",
      "Utah                    4822.35          4087.80     2309.91    11220.06\n",
      "Vermont                 5120.10          2209.51     1599.76     8929.37\n",
      "Virginia               25321.95         21169.61    24145.16    70636.72\n",
      "Washington             48020.16         40084.42    50536.71   138641.29\n",
      "West Virginia            673.34           536.48         NaN     1209.82\n",
      "Wisconsin              17256.61          6059.84     8798.16    32114.61\n",
      "Wyoming                 1603.14              NaN         NaN     1603.14\n",
      "Total                 741999.98        719046.99   836154.10  2297201.07\n"
     ]
    },
    {
     "name": "stderr",
     "output_type": "stream",
     "text": [
      "/tmp/ipykernel_61127/717293888.py:16: FutureWarning: The provided callable <function sum at 0x7e449ff57520> is currently using DataFrameGroupBy.sum. In a future version of pandas, the provided callable will be used directly. To keep current behavior pass the string \"sum\" instead.\n",
      "  margins_pivot = pd.pivot_table(df, index='region', columns='Category', values='Sales', aggfunc=np.sum, margins=True, margins_name='Total')\n",
      "/tmp/ipykernel_61127/717293888.py:16: FutureWarning: The provided callable <function sum at 0x7e449ff57520> is currently using DataFrameGroupBy.sum. In a future version of pandas, the provided callable will be used directly. To keep current behavior pass the string \"sum\" instead.\n",
      "  margins_pivot = pd.pivot_table(df, index='region', columns='Category', values='Sales', aggfunc=np.sum, margins=True, margins_name='Total')\n",
      "/tmp/ipykernel_61127/717293888.py:16: FutureWarning: The provided callable <function sum at 0x7e449ff57520> is currently using DataFrameGroupBy.sum. In a future version of pandas, the provided callable will be used directly. To keep current behavior pass the string \"sum\" instead.\n",
      "  margins_pivot = pd.pivot_table(df, index='region', columns='Category', values='Sales', aggfunc=np.sum, margins=True, margins_name='Total')\n"
     ]
    }
   ],
   "source": [
    "import pandas as pd\n",
    "import numpy as np\n",
    "\n",
    "# Load the dataset\n",
    "df = pd.read_csv('Raw Data (1).csv')\n",
    "\n",
    "# Fix date format (dd-mm-yyyy)\n",
    "df['Order Date'] = pd.to_datetime(df['Order Date'], dayfirst=True)\n",
    "\n",
    "# Extract year and month\n",
    "df['Year'] = df['Order Date'].dt.year\n",
    "df['Month'] = df['Order Date'].dt.month\n",
    "\n",
    "\n",
    "# Task 3: Total sales by region and category with subtotals\n",
    "margins_pivot = pd.pivot_table(df, index='region', columns='Category', values='Sales', aggfunc=np.sum, margins=True, margins_name='Total')\n",
    "print(\"\\nTask 3: Sales by Region and Category with Subtotals:\\n\", margins_pivot)\n"
   ]
  }
 ],
 "metadata": {
  "kernelspec": {
   "display_name": "Python 3",
   "language": "python",
   "name": "python3"
  },
  "language_info": {
   "codemirror_mode": {
    "name": "ipython",
    "version": 3
   },
   "file_extension": ".py",
   "mimetype": "text/x-python",
   "name": "python",
   "nbconvert_exporter": "python",
   "pygments_lexer": "ipython3",
   "version": "3.10.12"
  }
 },
 "nbformat": 4,
 "nbformat_minor": 2
}
