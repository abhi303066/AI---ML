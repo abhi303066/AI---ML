{
 "cells": [
  {
   "cell_type": "markdown",
   "metadata": {},
   "source": [
    "Title: Hands-on: Real-World Data Aggregation<br>\n",
    "Objective: Apply learned concepts to real-world data scenarios"
   ]
  },
  {
   "cell_type": "markdown",
   "metadata": {},
   "source": [
    "Task 1: Analyzing Sales by Region<br>\n",
    "\n",
    "Task: Use a real-world sales dataset to calculate yearly sales trends by region.<br>\n",
    " Steps:<br>\n",
    " 28. Acquire a dataset containing columns such as 'date', 'region', and 'sales'.<br>\n",
    " 29. Extract the year from the 'date' column.<br>\n",
    " 30. Group by 'year' and 'region' to apply the sum aggregation on 'sales'"
   ]
  },
  {
   "cell_type": "code",
   "execution_count": 4,
   "metadata": {},
   "outputs": [
    {
     "name": "stdout",
     "output_type": "stream",
     "text": [
      "Yearly Sales Trends by Region:\n",
      "     year         region     Sales\n",
      "0    2014        Alabama   6139.09\n",
      "1    2014        Arizona   8295.25\n",
      "2    2014       Arkansas   6302.69\n",
      "3    2014     California  91303.54\n",
      "4    2014       Colorado   6502.29\n",
      "..    ...            ...       ...\n",
      "176  2017        Vermont    842.21\n",
      "177  2017       Virginia   7600.20\n",
      "178  2017     Washington  65539.93\n",
      "179  2017  West Virginia   1209.82\n",
      "180  2017      Wisconsin   5567.47\n",
      "\n",
      "[181 rows x 3 columns]\n"
     ]
    }
   ],
   "source": [
    "import pandas as pd\n",
    "\n",
    "# Step 28: Load the dataset (ensure the dataset contains 'date', 'region', and 'sales' columns)\n",
    "df = pd.read_csv('Raw Data (1).csv')\n",
    "\n",
    "# Step 29: Convert 'date' column to datetime type and extract the year\n",
    "df['date'] = pd.to_datetime(df['Order Date'], dayfirst=True)  # Ensure correct date format\n",
    "df['year'] = df['date'].dt.year  # Extract year from date\n",
    "\n",
    "# Step 30: Group by 'year' and 'region' and calculate the total sales per group\n",
    "sales_by_year_region = df.groupby(['year', 'region'])['Sales'].sum().reset_index()\n",
    "\n",
    "# Display the result\n",
    "print(\"Yearly Sales Trends by Region:\")\n",
    "print(sales_by_year_region)\n"
   ]
  },
  {
   "cell_type": "markdown",
   "metadata": {},
   "source": [
    "Task 2: Customer Purchase Patterns<br>\n",
    "\n",
    "Task: Find the top 5 customers by the total amount spent using a purchases dataset.<br>\n",
    " Steps:<br>\n",
    " 31. Load a dataset with 'customer_id' and 'amount_spent'.<br>\n",
    " 32. Group by 'customer_id'.<br>\n",
    " 33. Use .sum() on 'amount_spent' and sort values"
   ]
  },
  {
   "cell_type": "code",
   "execution_count": 8,
   "metadata": {},
   "outputs": [
    {
     "name": "stdout",
     "output_type": "stream",
     "text": [
      "Top 5 Customers by Total Amount Spent:\n",
      "Customer Name\n",
      "Tamara Chand     8981.32\n",
      "Raymond Buch     6976.09\n",
      "Sanjit Chand     5757.42\n",
      "Hunter Lopez     5622.43\n",
      "Adrian Barton    5444.81\n",
      "Name: Profit, dtype: float64\n"
     ]
    }
   ],
   "source": [
    "import pandas as pd\n",
    "\n",
    "# Step 31: Load the dataset (ensure it contains 'customer_id' and 'amount_spent')\n",
    "df = pd.read_csv('Raw Data (1).csv')\n",
    "\n",
    "# Step 32: Group by 'customer_id' and calculate total 'amount_spent' for each customer\n",
    "total_spent_by_customer = df.groupby('Customer Name')['Profit'].sum()\n",
    "\n",
    "# Step 33: Sort the values in descending order and get the top 5 customers\n",
    "top_5_customers = total_spent_by_customer.sort_values(ascending=False).head(5)\n",
    "\n",
    "# Display the result\n",
    "print(\"Top 5 Customers by Total Amount Spent:\")\n",
    "print(top_5_customers)\n"
   ]
  },
  {
   "cell_type": "markdown",
   "metadata": {},
   "source": [
    " Task 3: Seasonality Analysis<br>\n",
    "\n",
    " Task: Determine which months have the highest and lowest sales for a retail dataset.<br>\n",
    " Steps:<br>\n",
    " 34. Use a dataset with 'transaction_date' and 'sales'.<br>\n",
    " 35. Extract the month from 'transaction_date'.<br>\n",
    " 36. Group by 'month' and sum 'sales', then sort to find extremes"
   ]
  },
  {
   "cell_type": "code",
   "execution_count": 12,
   "metadata": {},
   "outputs": [
    {
     "name": "stdout",
     "output_type": "stream",
     "text": [
      "Seasonality Analysis: Sales by Month\n",
      "month\n",
      "11    352461.09\n",
      "12    325293.54\n",
      "9     307649.96\n",
      "3     205005.51\n",
      "10    200323.03\n",
      "8     159043.99\n",
      "5     155028.83\n",
      "6     152718.72\n",
      "7     147238.11\n",
      "4     137762.16\n",
      "1      94924.87\n",
      "2      59751.26\n",
      "Name: Sales, dtype: float64\n",
      "\n",
      "Month with highest sales: 11 with sales of 352461.09\n",
      "Month with lowest sales: 2 with sales of 59751.26\n"
     ]
    }
   ],
   "source": [
    "import pandas as pd\n",
    "\n",
    "# Step 34: Load the dataset (ensure it contains 'transaction_date' and 'sales')\n",
    "df = pd.read_csv('Raw Data (1).csv')\n",
    "\n",
    "# Step 35: Convert 'transaction_date' to datetime type and extract the month\n",
    "df['transaction_date'] = pd.to_datetime(df['Order Date'], dayfirst=True)\n",
    "df['month'] = df['transaction_date'].dt.month  # Extract month from 'transaction_date'\n",
    "\n",
    "# Step 36: Group by 'month' and calculate total sales for each month\n",
    "sales_by_month = df.groupby('month')['Sales'].sum()\n",
    "\n",
    "# Sort the sales data to find the months with the highest and lowest sales\n",
    "sales_by_month_sorted = sales_by_month.sort_values(ascending=False)\n",
    "\n",
    "# Display the result\n",
    "print(\"Seasonality Analysis: Sales by Month\")\n",
    "print(sales_by_month_sorted)\n",
    "\n",
    "# Identify the month with the highest and lowest sales\n",
    "highest_sales_month = sales_by_month_sorted.idxmax()\n",
    "lowest_sales_month = sales_by_month_sorted.idxmin()\n",
    "\n",
    "print(f\"\\nMonth with highest sales: {highest_sales_month} with sales of {sales_by_month_sorted.max()}\")\n",
    "print(f\"Month with lowest sales: {lowest_sales_month} with sales of {sales_by_month_sorted.min()}\")\n"
   ]
  }
 ],
 "metadata": {
  "kernelspec": {
   "display_name": "Python 3",
   "language": "python",
   "name": "python3"
  },
  "language_info": {
   "codemirror_mode": {
    "name": "ipython",
    "version": 3
   },
   "file_extension": ".py",
   "mimetype": "text/x-python",
   "name": "python",
   "nbconvert_exporter": "python",
   "pygments_lexer": "ipython3",
   "version": "3.10.12"
  }
 },
 "nbformat": 4,
 "nbformat_minor": 2
}
