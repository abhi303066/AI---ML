{
 "cells": [
  {
   "cell_type": "markdown",
   "metadata": {},
   "source": [
    "Title: Grouping & Aggregating Data using Pandas<br>\n",
    "Objective: Learn how to group data and perform aggregations on these groups."
   ]
  },
  {
   "cell_type": "markdown",
   "metadata": {},
   "source": [
    "Task 1: Grouping by a Single Column<br>\n",
    "\n",
    "Task: Group the dataset by 'region' and calculate total sales per region.<br>\n",
    "Steps:<br>\n",
    "10. Load the dataset.<br>\n",
    "11. Use groupby('region') on the DataFrame.<br>\n",
    "12. Apply .sum() to the 'sales' column."
   ]
  },
  {
   "cell_type": "code",
   "execution_count": 4,
   "metadata": {},
   "outputs": [
    {
     "name": "stdout",
     "output_type": "stream",
     "text": [
      "region\n",
      "Alabama                  19510.64\n",
      "Arizona                  35282.02\n",
      "Arkansas                 11678.13\n",
      "California              457687.68\n",
      "Colorado                 32108.12\n",
      "Connecticut              13384.36\n",
      "Delaware                 27451.07\n",
      "District of Columbia      2865.02\n",
      "Florida                  89473.73\n",
      "Georgia                  49095.84\n",
      "Idaho                     4382.49\n",
      "Illinois                 80166.16\n",
      "Indiana                  53555.36\n",
      "Iowa                      4579.76\n",
      "Kansas                    2914.31\n",
      "Kentucky                 36591.75\n",
      "Louisiana                 9217.03\n",
      "Maine                     1270.53\n",
      "Maryland                 23705.52\n",
      "Massachusetts            28634.44\n",
      "Michigan                 76269.61\n",
      "Minnesota                29863.15\n",
      "Mississippi              10771.34\n",
      "Missouri                 22205.15\n",
      "Montana                   5589.35\n",
      "Nebraska                  7464.93\n",
      "Nevada                   16729.10\n",
      "New Hampshire             7292.52\n",
      "New Jersey               35764.32\n",
      "New Mexico                4783.54\n",
      "New York                310876.20\n",
      "North Carolina           55603.09\n",
      "North Dakota               919.91\n",
      "Ohio                     78258.21\n",
      "Oklahoma                 19683.39\n",
      "Oregon                   17431.14\n",
      "Pennsylvania            116512.02\n",
      "Rhode Island             22627.96\n",
      "South Carolina            8481.71\n",
      "South Dakota              1315.56\n",
      "Tennessee                30661.92\n",
      "Texas                   170187.98\n",
      "Utah                     11220.06\n",
      "Vermont                   8929.37\n",
      "Virginia                 70636.72\n",
      "Washington              138641.29\n",
      "West Virginia             1209.82\n",
      "Wisconsin                32114.61\n",
      "Wyoming                   1603.14\n",
      "Name: Sales, dtype: float64\n"
     ]
    }
   ],
   "source": [
    "import pandas as pd\n",
    "\n",
    "# Step 10: Load the dataset (replace with the actual file path)\n",
    "df = pd.read_csv('Raw Data (1).csv')\n",
    "\n",
    "# Step 11: Group by 'region' and calculate total sales per region\n",
    "sales_per_region = df.groupby('region')['Sales'].sum()\n",
    "\n",
    "# Step 12: Display the total sales per region\n",
    "print(sales_per_region)\n"
   ]
  },
  {
   "cell_type": "markdown",
   "metadata": {},
   "source": [
    "Task 2: Grouping by Multiple Columns<br>\n",
    "\n",
    "Task: Group the dataset by 'region' and 'category', then find the average sales.<br>\n",
    "Steps:<br>\n",
    "13. Group by ['region', 'category'].<br>\n",
    "14. Use .mean() on the 'sales' column.<br>\n",
    "15. Examine the resulting DataFrame structure."
   ]
  },
  {
   "cell_type": "code",
   "execution_count": 7,
   "metadata": {},
   "outputs": [
    {
     "name": "stdout",
     "output_type": "stream",
     "text": [
      "region         Category       \n",
      "Alabama        Furniture           575.680000\n",
      "               Office Supplies     116.918889\n",
      "               Technology          640.648571\n",
      "Arizona        Furniture           276.027143\n",
      "               Office Supplies      78.786063\n",
      "                                     ...     \n",
      "West Virginia  Office Supplies     178.826667\n",
      "Wisconsin      Furniture           539.269063\n",
      "               Office Supplies     114.336604\n",
      "               Technology          351.926400\n",
      "Wyoming        Furniture          1603.140000\n",
      "Name: Sales, Length: 142, dtype: float64\n",
      "\n",
      "DataFrame Structure:\n",
      "\n",
      "            region         Category        Sales\n",
      "0          Alabama        Furniture   575.680000\n",
      "1          Alabama  Office Supplies   116.918889\n",
      "2          Alabama       Technology   640.648571\n",
      "3          Arizona        Furniture   276.027143\n",
      "4          Arizona  Office Supplies    78.786063\n",
      "..             ...              ...          ...\n",
      "137  West Virginia  Office Supplies   178.826667\n",
      "138      Wisconsin        Furniture   539.269063\n",
      "139      Wisconsin  Office Supplies   114.336604\n",
      "140      Wisconsin       Technology   351.926400\n",
      "141        Wyoming        Furniture  1603.140000\n",
      "\n",
      "[142 rows x 3 columns]\n"
     ]
    }
   ],
   "source": [
    "import pandas as pd\n",
    "\n",
    "# Load the dataset\n",
    "df = pd.read_csv('Raw Data (1).csv')\n",
    "\n",
    "# Step 13 & 14: Group by 'region' and 'category' and calculate mean sales\n",
    "avg_sales = df.groupby(['region', 'Category'])['Sales'].mean()\n",
    "\n",
    "# Step 15: Display the result\n",
    "print(avg_sales)\n",
    "\n",
    "# Optional: Convert result to a DataFrame for easier viewing\n",
    "avg_sales_df = avg_sales.reset_index()\n",
    "print(\"\\nDataFrame Structure:\\n\")\n",
    "print(avg_sales_df)\n"
   ]
  },
  {
   "cell_type": "markdown",
   "metadata": {},
   "source": [
    "Task 3: Aggregating Multiple Functions<br>\n",
    "\n",
    "Task: Group data by 'category' and apply multiple aggregation functions (sum and count) on 'quantity'.<br>\n",
    "Steps:<br>\n",
    "16. Group by 'category'.<br>\n",
    "17. Use .agg(['sum', 'count']) on 'quantity'.<br>\n",
    "18. Analyze the result to understand how multiple aggregations work."
   ]
  },
  {
   "cell_type": "code",
   "execution_count": 8,
   "metadata": {},
   "outputs": [
    {
     "name": "stdout",
     "output_type": "stream",
     "text": [
      "Aggregated Quantity Stats by Category:\n",
      "                   sum  count\n",
      "Category                     \n",
      "Furniture         8028   2121\n",
      "Office Supplies  22906   6026\n",
      "Technology        6939   1847\n"
     ]
    }
   ],
   "source": [
    "import pandas as pd\n",
    "\n",
    "# Load the dataset\n",
    "df = pd.read_csv('Raw Data (1).csv')\n",
    "\n",
    "# Step 16 & 17: Group by 'Category' and apply sum and count on 'Quantity'\n",
    "quantity_stats = df.groupby('Category')['Quantity'].agg(['sum', 'count'])\n",
    "\n",
    "# Step 18: Display the result\n",
    "print(\"Aggregated Quantity Stats by Category:\")\n",
    "print(quantity_stats)\n"
   ]
  }
 ],
 "metadata": {
  "kernelspec": {
   "display_name": "Python 3",
   "language": "python",
   "name": "python3"
  },
  "language_info": {
   "codemirror_mode": {
    "name": "ipython",
    "version": 3
   },
   "file_extension": ".py",
   "mimetype": "text/x-python",
   "name": "python",
   "nbconvert_exporter": "python",
   "pygments_lexer": "ipython3",
   "version": "3.10.12"
  }
 },
 "nbformat": 4,
 "nbformat_minor": 2
}
