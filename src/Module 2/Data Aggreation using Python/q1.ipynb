{
 "cells": [
  {
   "cell_type": "markdown",
   "metadata": {},
   "source": [
    "Title: Introduction to Data Aggregation\n",
    "<br>\n",
    "Objective: Understand the basic concepts of data aggregation and practice simple aggregation methods."
   ]
  },
  {
   "cell_type": "code",
   "execution_count": null,
   "metadata": {},
   "outputs": [],
   "source": []
  },
  {
   "cell_type": "markdown",
   "metadata": {},
   "source": [
    "Task 1: Calculating Sum\n",
    "<br>\n",
    "Task: Use a numerical dataset containing columns like 'sales', 'profit', and 'quantity'.\n",
    "Calculate the total sales for the dataset.\n",
    "<br>\n",
    "Steps:<br>\n",
    "1. Load the dataset using pandas.<br>\n",
    "2. Apply the .sum() function on the 'sales' column.<br>\n",
    "3. Verify the result by manually summing a portion of the 'sales' values."
   ]
  },
  {
   "cell_type": "code",
   "execution_count": 2,
   "metadata": {},
   "outputs": [
    {
     "name": "stdout",
     "output_type": "stream",
     "text": [
      "Total Sales: 2297201.07\n",
      "Manual Sum of First 10 Sales Values: 3545.5500000000006\n"
     ]
    }
   ],
   "source": [
    "import pandas as pd\n",
    "\n",
    "# Step 1: Load the dataset (replace with the actual file path)\n",
    "df = pd.read_csv('Raw Data (1).csv')\n",
    "\n",
    "# Step 2: Calculate the total sales\n",
    "total_sales = df['Sales'].sum()\n",
    "\n",
    "# Display the total sales\n",
    "print(f\"Total Sales: {total_sales}\")\n",
    "\n",
    "# Step 3: Verify the result by manually summing a portion of the 'Sales' values\n",
    "# Example: Sum the first 10 sales values (for verification)\n",
    "manual_sum = df['Sales'].head(10).sum()\n",
    "\n",
    "print(f\"Manual Sum of First 10 Sales Values: {manual_sum}\")\n"
   ]
  },
  {
   "cell_type": "code",
   "execution_count": 5,
   "metadata": {},
   "outputs": [
    {
     "name": "stdout",
     "output_type": "stream",
     "text": [
      "Total Sales: 2297201.07\n",
      "Manual Sum of First 10 Sales Values: 4913.679999999999\n"
     ]
    }
   ],
   "source": [
    "import pandas as pd\n",
    "\n",
    "# Step 1: Load the dataset (replace with the actual file path)\n",
    "df = pd.read_csv('Raw Data (1).csv')\n",
    "\n",
    "# Step 2: Calculate the total sales\n",
    "total_sales = df['Sales'].sum()\n",
    "\n",
    "# Display the total sales\n",
    "print(f\"Total Sales: {total_sales}\")\n",
    "\n",
    "# Step 3: Verify the result by manually summing a portion of the 'Sales' values\n",
    "# Example: Sum the first 10 sales values (for verification)\n",
    "manual_sum = df['Sales'].head(20).sum()\n",
    "\n",
    "print(f\"Manual Sum of First 10 Sales Values: {manual_sum}\")\n"
   ]
  },
  {
   "cell_type": "markdown",
   "metadata": {},
   "source": [
    "Task 2: Calculating Mean<br>\n",
    "\n",
    "Task: Calculate the average quantity sold.<br>\n",
    "Steps:<br>\n",
    "4. Load the dataset.<br>\n",
    "5. Use the .mean() function on the 'quantity' column to find the average.<br>\n",
    "6. Double-check by calculating the mean manually on a small selection."
   ]
  },
  {
   "cell_type": "code",
   "execution_count": 7,
   "metadata": {},
   "outputs": [
    {
     "name": "stdout",
     "output_type": "stream",
     "text": [
      "Average Quantity Sold: 3.789573744246548\n",
      "Manual Mean of First 10 Quantity Values: 3.2\n"
     ]
    }
   ],
   "source": [
    "import pandas as pd\n",
    "\n",
    "# Step 4: Load the dataset (replace with the actual file path)\n",
    "df = pd.read_csv('Raw Data (1).csv')\n",
    "\n",
    "# Step 5: Calculate the mean quantity\n",
    "average_quantity = df['Quantity'].mean()\n",
    "\n",
    "# Display the average quantity sold\n",
    "print(f\"Average Quantity Sold: {average_quantity}\")\n",
    "\n",
    "# Step 6: Verify by manually calculating the mean for the first 10 rows\n",
    "manual_mean = df['Quantity'].head(10).sum() / 10\n",
    "\n",
    "print(f\"Manual Mean of First 10 Quantity Values: {manual_mean}\")\n"
   ]
  }
 ],
 "metadata": {
  "kernelspec": {
   "display_name": "Python 3",
   "language": "python",
   "name": "python3"
  },
  "language_info": {
   "codemirror_mode": {
    "name": "ipython",
    "version": 3
   },
   "file_extension": ".py",
   "mimetype": "text/x-python",
   "name": "python",
   "nbconvert_exporter": "python",
   "pygments_lexer": "ipython3",
   "version": "3.10.12"
  }
 },
 "nbformat": 4,
 "nbformat_minor": 2
}
