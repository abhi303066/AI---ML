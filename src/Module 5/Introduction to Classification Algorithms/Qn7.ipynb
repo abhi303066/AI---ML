{
 "cells": [
  {
   "cell_type": "markdown",
   "metadata": {},
   "source": [
    "Title: Popular Classification Algorithms"
   ]
  },
  {
   "cell_type": "markdown",
   "metadata": {},
   "source": [
    "\n",
    "K Nearst Neighbors (KNN)"
   ]
  },
  {
   "cell_type": "markdown",
   "metadata": {},
   "source": [
    "Task 1: Classify fruits based on weight and color."
   ]
  },
  {
   "cell_type": "code",
   "execution_count": 1,
   "metadata": {},
   "outputs": [
    {
     "name": "stdout",
     "output_type": "stream",
     "text": [
      "Predicted Fruit: apple\n"
     ]
    },
    {
     "name": "stderr",
     "output_type": "stream",
     "text": [
      "/home/vscode/.local/lib/python3.10/site-packages/sklearn/utils/validation.py:2739: UserWarning: X does not have valid feature names, but DecisionTreeClassifier was fitted with feature names\n",
      "  warnings.warn(\n"
     ]
    }
   ],
   "source": [
    "import pandas as pd\n",
    "from sklearn.preprocessing import LabelEncoder\n",
    "from sklearn.tree import DecisionTreeClassifier\n",
    "\n",
    "# -----------------------\n",
    "# STEP 1: Sample Dataset\n",
    "# -----------------------\n",
    "\n",
    "data = {\n",
    "    'weight': [150, 170, 140, 120, 300, 280, 90, 85],\n",
    "    'color': ['red', 'red', 'green', 'green', 'yellow', 'yellow', 'purple', 'purple'],\n",
    "    'fruit': ['apple', 'apple', 'apple', 'apple', 'banana', 'banana', 'grape', 'grape']\n",
    "}\n",
    "\n",
    "df = pd.DataFrame(data)\n",
    "\n",
    "# -----------------------\n",
    "# STEP 2: Encode Color\n",
    "# -----------------------\n",
    "\n",
    "color_encoder = LabelEncoder()\n",
    "df['color_encoded'] = color_encoder.fit_transform(df['color'])\n",
    "\n",
    "# -----------------------\n",
    "# STEP 3: Train Model\n",
    "# -----------------------\n",
    "\n",
    "X = df[['weight', 'color_encoded']]\n",
    "y = df['fruit']\n",
    "\n",
    "model = DecisionTreeClassifier()\n",
    "model.fit(X, y)\n",
    "\n",
    "# -----------------------\n",
    "# STEP 4: Predict Function\n",
    "# -----------------------\n",
    "\n",
    "def predict_fruit(weight, color):\n",
    "    color_num = color_encoder.transform([color])[0]\n",
    "    prediction = model.predict([[weight, color_num]])\n",
    "    return prediction[0]\n",
    "\n",
    "# -----------------------\n",
    "# Test Prediction\n",
    "# -----------------------\n",
    "\n",
    "test_weight = 180\n",
    "test_color = 'red'\n",
    "result = predict_fruit(test_weight, test_color)\n",
    "\n",
    "print(f\"Predicted Fruit: {result}\")\n"
   ]
  },
  {
   "cell_type": "markdown",
   "metadata": {},
   "source": [
    "Task 2: Predict customer clothing size based on height and weight."
   ]
  },
  {
   "cell_type": "code",
   "execution_count": 2,
   "metadata": {},
   "outputs": [
    {
     "name": "stdout",
     "output_type": "stream",
     "text": [
      "Predicted Clothing Size: M\n"
     ]
    },
    {
     "name": "stderr",
     "output_type": "stream",
     "text": [
      "/home/vscode/.local/lib/python3.10/site-packages/sklearn/utils/validation.py:2739: UserWarning: X does not have valid feature names, but DecisionTreeClassifier was fitted with feature names\n",
      "  warnings.warn(\n"
     ]
    }
   ],
   "source": [
    "import pandas as pd\n",
    "from sklearn.model_selection import train_test_split\n",
    "from sklearn.tree import DecisionTreeClassifier\n",
    "\n",
    "# ----------------------------\n",
    "# STEP 1: Sample Dataset\n",
    "# ----------------------------\n",
    "\n",
    "data = {\n",
    "    'height': [150, 155, 160, 165, 170, 175, 180, 185, 190],\n",
    "    'weight': [45, 50, 55, 60, 65, 70, 75, 80, 90],\n",
    "    'size':   ['XS', 'S', 'S', 'M', 'M', 'L', 'L', 'XL', 'XL']\n",
    "}\n",
    "\n",
    "df = pd.DataFrame(data)\n",
    "\n",
    "# ----------------------------\n",
    "# STEP 2: Train the Model\n",
    "# ----------------------------\n",
    "\n",
    "X = df[['height', 'weight']]\n",
    "y = df['size']\n",
    "\n",
    "model = DecisionTreeClassifier()\n",
    "model.fit(X, y)\n",
    "\n",
    "# ----------------------------\n",
    "# STEP 3: Predict Function\n",
    "# ----------------------------\n",
    "\n",
    "def predict_size(height, weight):\n",
    "    prediction = model.predict([[height, weight]])\n",
    "    return prediction[0]\n",
    "\n",
    "# ----------------------------\n",
    "# Example Usage\n",
    "# ----------------------------\n",
    "\n",
    "test_height = 170\n",
    "test_weight = 65\n",
    "\n",
    "predicted_size = predict_size(test_height, test_weight)\n",
    "print(f\"Predicted Clothing Size: {predicted_size}\")\n"
   ]
  },
  {
   "cell_type": "markdown",
   "metadata": {},
   "source": [
    "Task 3: Determine optimal movie recommendation based on viewer preferences."
   ]
  },
  {
   "cell_type": "code",
   "execution_count": 3,
   "metadata": {},
   "outputs": [
    {
     "name": "stdout",
     "output_type": "stream",
     "text": [
      "Recommended Movies:\n",
      "        title         genres\n",
      "   The Matrix  Action Sci-Fi\n",
      " Pulp Fiction Crime Thriller\n",
      "The Godfather    Crime Drama\n"
     ]
    }
   ],
   "source": [
    "import pandas as pd\n",
    "from sklearn.metrics.pairwise import cosine_similarity\n",
    "from sklearn.feature_extraction.text import TfidfVectorizer\n",
    "\n",
    "# Step 1: Sample Movie Dataset\n",
    "movies = pd.DataFrame({\n",
    "    'title': ['The Matrix', 'Titanic', 'Toy Story', 'The Godfather', 'Pulp Fiction'],\n",
    "    'genres': ['Action Sci-Fi', 'Romance Drama', 'Animation Comedy', 'Crime Drama', 'Crime Thriller'],\n",
    "    'actors': [\n",
    "        'Keanu Reeves Laurence Fishburne',\n",
    "        'Leonardo DiCaprio Kate Winslet',\n",
    "        'Tom Hanks Tim Allen',\n",
    "        'Marlon Brando Al Pacino',\n",
    "        'John Travolta Uma Thurman'\n",
    "    ]\n",
    "})\n",
    "\n",
    "# Step 2: Combine relevant features into one string per movie\n",
    "movies['combined_features'] = movies['genres'] + \" \" + movies['actors']\n",
    "\n",
    "# Step 3: Vectorize text features with TF-IDF\n",
    "tfidf = TfidfVectorizer(stop_words='english')\n",
    "feature_matrix = tfidf.fit_transform(movies['combined_features'])\n",
    "\n",
    "# Step 4: Define recommendation function\n",
    "def recommend_movies(preference_text, movies=movies, tfidf=tfidf, feature_matrix=feature_matrix, top_n=3):\n",
    "    # Vectorize user preference\n",
    "    pref_vec = tfidf.transform([preference_text])\n",
    "    # Calculate cosine similarity between preference and all movies\n",
    "    cosine_sim = cosine_similarity(pref_vec, feature_matrix).flatten()\n",
    "    # Get top N indices with highest similarity\n",
    "    top_indices = cosine_sim.argsort()[-top_n:][::-1]\n",
    "    # Return top movie titles and genres\n",
    "    return movies.iloc[top_indices][['title', 'genres']]\n",
    "\n",
    "# Step 5: Example usage\n",
    "if __name__ == \"__main__\":\n",
    "    user_preferences = \"Action Sci-Fi with Keanu Reeves\"\n",
    "    recommended = recommend_movies(user_preferences)\n",
    "    print(\"Recommended Movies:\")\n",
    "    print(recommended.to_string(index=False))\n"
   ]
  }
 ],
 "metadata": {
  "kernelspec": {
   "display_name": "Python 3",
   "language": "python",
   "name": "python3"
  },
  "language_info": {
   "codemirror_mode": {
    "name": "ipython",
    "version": 3
   },
   "file_extension": ".py",
   "mimetype": "text/x-python",
   "name": "python",
   "nbconvert_exporter": "python",
   "pygments_lexer": "ipython3",
   "version": "3.10.12"
  }
 },
 "nbformat": 4,
 "nbformat_minor": 2
}
