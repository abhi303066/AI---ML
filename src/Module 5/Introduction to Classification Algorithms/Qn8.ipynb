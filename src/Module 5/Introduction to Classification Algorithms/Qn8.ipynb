{
 "cells": [
  {
   "cell_type": "markdown",
   "metadata": {},
   "source": [
    "Title: Classification Model Performance Metrics"
   ]
  },
  {
   "cell_type": "markdown",
   "metadata": {},
   "source": [
    "Accuracy, Precision, Recall, F1-Score:"
   ]
  },
  {
   "cell_type": "markdown",
   "metadata": {},
   "source": [
    "Task 1: Evaluate a binary classifier for spam detection using accuracy, precision, recall and F1-score."
   ]
  },
  {
   "cell_type": "code",
   "execution_count": 1,
   "metadata": {},
   "outputs": [
    {
     "name": "stdout",
     "output_type": "stream",
     "text": [
      "Accuracy:  0.70\n",
      "Precision: 0.75\n",
      "Recall:    0.60\n",
      "F1-score:  0.67\n",
      "\n",
      "Classification Report:\n",
      "               precision    recall  f1-score   support\n",
      "\n",
      "    Not Spam       0.67      0.80      0.73         5\n",
      "        Spam       0.75      0.60      0.67         5\n",
      "\n",
      "    accuracy                           0.70        10\n",
      "   macro avg       0.71      0.70      0.70        10\n",
      "weighted avg       0.71      0.70      0.70        10\n",
      "\n"
     ]
    }
   ],
   "source": [
    "from sklearn.metrics import accuracy_score, precision_score, recall_score, f1_score, classification_report\n",
    "\n",
    "# Example ground truth labels (1 = spam, 0 = not spam)\n",
    "y_true = [0, 1, 0, 1, 0, 0, 1, 1, 0, 1]\n",
    "\n",
    "# Example predicted labels from your classifier\n",
    "y_pred = [0, 0, 0, 1, 0, 1, 1, 0, 0, 1]\n",
    "\n",
    "# Calculate metrics\n",
    "accuracy = accuracy_score(y_true, y_pred)\n",
    "precision = precision_score(y_true, y_pred)   # How many predicted spam are actually spam\n",
    "recall = recall_score(y_true, y_pred)         # How many actual spam were detected\n",
    "f1 = f1_score(y_true, y_pred)                 # Harmonic mean of precision and recall\n",
    "\n",
    "# Print metrics\n",
    "print(f\"Accuracy:  {accuracy:.2f}\")\n",
    "print(f\"Precision: {precision:.2f}\")\n",
    "print(f\"Recall:    {recall:.2f}\")\n",
    "print(f\"F1-score:  {f1:.2f}\")\n",
    "\n",
    "# Optional: detailed classification report\n",
    "print(\"\\nClassification Report:\\n\", classification_report(y_true, y_pred, target_names=['Not Spam', 'Spam']))\n"
   ]
  },
  {
   "cell_type": "markdown",
   "metadata": {},
   "source": [
    "\n",
    "Task 2: Compare performance of a multi-class classifier on recognizing animals."
   ]
  },
  {
   "cell_type": "code",
   "execution_count": 2,
   "metadata": {},
   "outputs": [
    {
     "name": "stdout",
     "output_type": "stream",
     "text": [
      "Accuracy:  0.70\n",
      "Precision (macro): 0.69\n",
      "Recall (macro):    0.69\n",
      "F1-score (macro):  0.69\n",
      "\n",
      "Classification Report:\n",
      "\n",
      "              precision    recall  f1-score   support\n",
      "\n",
      "         Cat       0.67      0.67      0.67         3\n",
      "         Dog       0.75      0.75      0.75         4\n",
      "       Horse       0.67      0.67      0.67         3\n",
      "\n",
      "    accuracy                           0.70        10\n",
      "   macro avg       0.69      0.69      0.69        10\n",
      "weighted avg       0.70      0.70      0.70        10\n",
      "\n"
     ]
    }
   ],
   "source": [
    "from sklearn.metrics import accuracy_score, precision_recall_fscore_support, classification_report\n",
    "\n",
    "# Ground truth labels (e.g., 0=cat, 1=dog, 2=horse)\n",
    "y_true = [0, 1, 2, 2, 1, 0, 0, 1, 2, 1]\n",
    "\n",
    "# Predicted labels by your classifier\n",
    "y_pred = [0, 2, 2, 2, 1, 0, 1, 1, 0, 1]\n",
    "\n",
    "# Calculate overall accuracy\n",
    "accuracy = accuracy_score(y_true, y_pred)\n",
    "\n",
    "# Calculate precision, recall, F1 for each class (macro-average)\n",
    "precision, recall, f1, _ = precision_recall_fscore_support(y_true, y_pred, average='macro')\n",
    "\n",
    "print(f\"Accuracy:  {accuracy:.2f}\")\n",
    "print(f\"Precision (macro): {precision:.2f}\")\n",
    "print(f\"Recall (macro):    {recall:.2f}\")\n",
    "print(f\"F1-score (macro):  {f1:.2f}\")\n",
    "\n",
    "# Detailed classification report\n",
    "target_names = ['Cat', 'Dog', 'Horse']\n",
    "print(\"\\nClassification Report:\\n\")\n",
    "print(classification_report(y_true, y_pred, target_names=target_names))\n"
   ]
  },
  {
   "cell_type": "markdown",
   "metadata": {},
   "source": [
    "Task 3: Analyze classifier performance for predicting disease outbreaks."
   ]
  },
  {
   "cell_type": "code",
   "execution_count": 3,
   "metadata": {},
   "outputs": [
    {
     "name": "stdout",
     "output_type": "stream",
     "text": [
      "Accuracy:  0.80\n",
      "Precision: 0.83\n",
      "Recall:    0.71\n",
      "F1-score:  0.77\n",
      "\n",
      "Classification Report:\n",
      "              precision    recall  f1-score   support\n",
      "\n",
      " No Outbreak       0.78      0.88      0.82         8\n",
      "    Outbreak       0.83      0.71      0.77         7\n",
      "\n",
      "    accuracy                           0.80        15\n",
      "   macro avg       0.81      0.79      0.80        15\n",
      "weighted avg       0.80      0.80      0.80        15\n",
      "\n"
     ]
    },
    {
     "data": {
      "image/png": "[encoded data removed]",
      "text/plain": [
       "<Figure size 600x400 with 2 Axes>"
      ]
     },
     "metadata": {},
     "output_type": "display_data"
    }
   ],
   "source": [
    "import numpy as np\n",
    "from sklearn.metrics import (\n",
    "    accuracy_score, precision_score, recall_score, f1_score,\n",
    "    confusion_matrix, classification_report\n",
    ")\n",
    "import matplotlib.pyplot as plt\n",
    "import seaborn as sns\n",
    "\n",
    "# Example ground truth labels (1 = outbreak, 0 = no outbreak)\n",
    "y_true = np.array([0, 1, 0, 1, 0, 0, 1, 1, 0, 1, 0, 0, 1, 0, 1])\n",
    "\n",
    "# Predicted labels from your model\n",
    "y_pred = np.array([0, 1, 0, 0, 0, 1, 1, 1, 0, 1, 0, 0, 0, 0, 1])\n",
    "\n",
    "# Calculate metrics\n",
    "accuracy = accuracy_score(y_true, y_pred)\n",
    "precision = precision_score(y_true, y_pred)\n",
    "recall = recall_score(y_true, y_pred)\n",
    "f1 = f1_score(y_true, y_pred)\n",
    "\n",
    "print(f\"Accuracy:  {accuracy:.2f}\")\n",
    "print(f\"Precision: {precision:.2f}\")\n",
    "print(f\"Recall:    {recall:.2f}\")\n",
    "print(f\"F1-score:  {f1:.2f}\")\n",
    "\n",
    "print(\"\\nClassification Report:\")\n",
    "print(classification_report(y_true, y_pred, target_names=['No Outbreak', 'Outbreak']))\n",
    "\n",
    "# Confusion Matrix Visualization\n",
    "cm = confusion_matrix(y_true, y_pred)\n",
    "labels = ['No Outbreak', 'Outbreak']\n",
    "\n",
    "plt.figure(figsize=(6,4))\n",
    "sns.heatmap(cm, annot=True, fmt='d', cmap='Blues', xticklabels=labels, yticklabels=labels)\n",
    "plt.xlabel('Predicted')\n",
    "plt.ylabel('Actual')\n",
    "plt.title('Confusion Matrix for Disease Outbreak Prediction')\n",
    "plt.show()\n"
   ]
  }
 ],
 "metadata": {
  "kernelspec": {
   "display_name": "Python 3",
   "language": "python",
   "name": "python3"
  },
  "language_info": {
   "codemirror_mode": {
    "name": "ipython",
    "version": 3
   },
   "file_extension": ".py",
   "mimetype": "text/x-python",
   "name": "python",
   "nbconvert_exporter": "python",
   "pygments_lexer": "ipython3",
   "version": "3.10.12"
  }
 },
 "nbformat": 4,
 "nbformat_minor": 2
}
