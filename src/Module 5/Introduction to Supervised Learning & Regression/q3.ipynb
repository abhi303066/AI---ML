{
 "cells": [
  {
   "cell_type": "markdown",
   "metadata": {},
   "source": [
    "Question 3: Calculate R2 Score <br>\n",
    "\n",
    "Description:<br>\n",
    "Calculate the R2 score for a set of predicted values."
   ]
  },
  {
   "cell_type": "code",
   "execution_count": 1,
   "metadata": {},
   "outputs": [
    {
     "name": "stdout",
     "output_type": "stream",
     "text": [
      "R² Score: 0.9950\n"
     ]
    }
   ],
   "source": [
    "from sklearn.metrics import r2_score\n",
    "\n",
    "# Example actual and predicted values\n",
    "y_true = [3, 5, 7, 9]\n",
    "y_pred = [2.8, 4.9, 7.1, 9.2]\n",
    "\n",
    "# Calculate R² Score\n",
    "r2 = r2_score(y_true, y_pred)\n",
    "\n",
    "# Output the result\n",
    "print(f\"R² Score: {r2:.4f}\")\n"
   ]
  }
 ],
 "metadata": {
  "kernelspec": {
   "display_name": "Python 3",
   "language": "python",
   "name": "python3"
  },
  "language_info": {
   "codemirror_mode": {
    "name": "ipython",
    "version": 3
   },
   "file_extension": ".py",
   "mimetype": "text/x-python",
   "name": "python",
   "nbconvert_exporter": "python",
   "pygments_lexer": "ipython3",
   "version": "3.10.12"
  }
 },
 "nbformat": 4,
 "nbformat_minor": 2
}
