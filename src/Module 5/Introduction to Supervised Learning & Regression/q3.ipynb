{
 "cells": [
  {
   "cell_type": "markdown",
   "metadata": {},
   "source": [
    "Question 3: Calculate R2 Score <br>\n",
    "\n",
    "Description:<br>\n",
    "Calculate the R2 score for a set of predicted values."
   ]
  },
  {
   "cell_type": "code",
   "execution_count": 4,
   "metadata": {},
   "outputs": [
    {
     "name": "stdout",
     "output_type": "stream",
     "text": [
      "R² Score: 0.9950\n"
     ]
    }
   ],
   "source": [
    "from sklearn.metrics import r2_score\n",
    "\n",
    "def calculate_r2_score(y_true, y_pred):\n",
    "    # Error handling: Check if inputs are lists or arrays\n",
    "    if not isinstance(y_true, (list, tuple)) or not isinstance(y_pred, (list, tuple)):\n",
    "        raise TypeError(\"Inputs must be lists or tuples of numeric values.\")\n",
    "    \n",
    "    # Check for equal lengths\n",
    "    if len(y_true) != len(y_pred):\n",
    "        raise ValueError(\"Input lists must have the same length.\")\n",
    "    \n",
    "    # Check for empty lists\n",
    "    if len(y_true) == 0:\n",
    "        raise ValueError(\"Input lists must not be empty.\")\n",
    "    \n",
    "    # Check for numeric values\n",
    "    for yt, yp in zip(y_true, y_pred):\n",
    "        if not isinstance(yt, (int, float)) or not isinstance(yp, (int, float)):\n",
    "            raise ValueError(\"All elements must be numeric.\")\n",
    "\n",
    "    # Calculate R² score\n",
    "    return r2_score(y_true, y_pred)\n",
    "\n",
    "\n",
    "# Example usage\n",
    "y_true = [3, 5, 7, 9]\n",
    "y_pred = [2.8, 4.9, 7.1, 9.2]\n",
    "\n",
    "try:\n",
    "    r2 = calculate_r2_score(y_true, y_pred)\n",
    "    print(f\"R² Score: {r2:.4f}\")\n",
    "except (TypeError, ValueError) as e:\n",
    "    print(f\"Error: {e}\")\n"
   ]
  }
 ],
 "metadata": {
  "kernelspec": {
   "display_name": "Python 3",
   "language": "python",
   "name": "python3"
  },
  "language_info": {
   "codemirror_mode": {
    "name": "ipython",
    "version": 3
   },
   "file_extension": ".py",
   "mimetype": "text/x-python",
   "name": "python",
   "nbconvert_exporter": "python",
   "pygments_lexer": "ipython3",
   "version": "3.10.12"
  }
 },
 "nbformat": 4,
 "nbformat_minor": 2
}
