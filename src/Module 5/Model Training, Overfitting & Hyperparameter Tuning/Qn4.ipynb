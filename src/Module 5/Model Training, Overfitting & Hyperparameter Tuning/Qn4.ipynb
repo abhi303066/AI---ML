{
 "cells": [
  {
   "cell_type": "markdown",
   "metadata": {},
   "source": [
    "Title: Cross-Validation"
   ]
  },
  {
   "cell_type": "markdown",
   "metadata": {},
   "source": [
    "\n",
    "Task 1: K-Fold Cross-Validation for House Prices<br>\n",
    "Apply K-Fold Cross-Validation (K=5) to check variability in performance."
   ]
  },
  {
   "cell_type": "code",
   "execution_count": 1,
   "metadata": {},
   "outputs": [
    {
     "name": "stdout",
     "output_type": "stream",
     "text": [
      "RMSE scores for each fold:\n",
      " Fold 1: 0.7456\n",
      " Fold 2: 0.7264\n",
      " Fold 3: 0.7136\n",
      " Fold 4: 0.7105\n",
      " Fold 5: 0.7451\n",
      "\n",
      "Mean RMSE: 0.7283\n",
      "Std deviation of RMSE: 0.0149\n"
     ]
    }
   ],
   "source": [
    "from sklearn.datasets import fetch_california_housing\n",
    "from sklearn.linear_model import LinearRegression\n",
    "from sklearn.model_selection import KFold, cross_val_score\n",
    "from sklearn.metrics import make_scorer, mean_squared_error\n",
    "import numpy as np\n",
    "\n",
    "# Load dataset\n",
    "data = fetch_california_housing(as_frame=True)\n",
    "X = data.data\n",
    "y = data.target\n",
    "\n",
    "# Define Linear Regression model\n",
    "model = LinearRegression()\n",
    "\n",
    "# Define RMSE scorer (negated for cross_val_score which maximizes score)\n",
    "def rmse(y_true, y_pred):\n",
    "    return np.sqrt(mean_squared_error(y_true, y_pred))\n",
    "\n",
    "neg_rmse_scorer = make_scorer(rmse, greater_is_better=False)\n",
    "\n",
    "# Setup 5-Fold Cross-Validation\n",
    "kf = KFold(n_splits=5, shuffle=True, random_state=42)\n",
    "\n",
    "# Perform cross-validation and get negative RMSE scores\n",
    "neg_rmse_scores = cross_val_score(model, X, y, scoring=neg_rmse_scorer, cv=kf)\n",
    "\n",
    "# Convert negative RMSE scores to positive\n",
    "rmse_scores = -neg_rmse_scores\n",
    "\n",
    "print(\"RMSE scores for each fold:\")\n",
    "for i, score in enumerate(rmse_scores, 1):\n",
    "    print(f\" Fold {i}: {score:.4f}\")\n",
    "\n",
    "print(f\"\\nMean RMSE: {rmse_scores.mean():.4f}\")\n",
    "print(f\"Std deviation of RMSE: {rmse_scores.std():.4f}\")\n"
   ]
  },
  {
   "cell_type": "markdown",
   "metadata": {},
   "source": [
    "Task 2: Stratified K-Fold for Imbalanced Churn Dataset<br>\n",
    "Use Stratified K-Fold to ensure each class is represented."
   ]
  },
  {
   "cell_type": "code",
   "execution_count": 2,
   "metadata": {},
   "outputs": [
    {
     "name": "stdout",
     "output_type": "stream",
     "text": [
      "Fold 1 Accuracy: 0.9400\n",
      "Fold 2 Accuracy: 0.9200\n",
      "Fold 3 Accuracy: 0.9500\n",
      "Fold 4 Accuracy: 0.9450\n",
      "Fold 5 Accuracy: 0.9150\n",
      "\n",
      "Mean Accuracy over 5 folds: 0.9340\n"
     ]
    }
   ],
   "source": [
    "import numpy as np\n",
    "from sklearn.datasets import make_classification\n",
    "from sklearn.model_selection import StratifiedKFold\n",
    "from sklearn.ensemble import RandomForestClassifier\n",
    "from sklearn.metrics import accuracy_score\n",
    "\n",
    "# Create synthetic imbalanced churn-like dataset\n",
    "X, y = make_classification(n_samples=1000, n_features=20,\n",
    "                           n_informative=10, n_redundant=5,\n",
    "                           n_classes=2, weights=[0.7, 0.3], # imbalance\n",
    "                           random_state=42)\n",
    "\n",
    "# Initialize Stratified K-Fold\n",
    "skf = StratifiedKFold(n_splits=5, shuffle=True, random_state=42)\n",
    "\n",
    "accuracies = []\n",
    "\n",
    "for fold, (train_idx, val_idx) in enumerate(skf.split(X, y), 1):\n",
    "    X_train, X_val = X[train_idx], X[val_idx]\n",
    "    y_train, y_val = y[train_idx], y[val_idx]\n",
    "\n",
    "    # Train Random Forest classifier\n",
    "    model = RandomForestClassifier(random_state=42)\n",
    "    model.fit(X_train, y_train)\n",
    "\n",
    "    # Predict on validation fold\n",
    "    y_pred = model.predict(X_val)\n",
    "\n",
    "    # Evaluate accuracy\n",
    "    acc = accuracy_score(y_val, y_pred)\n",
    "    accuracies.append(acc)\n",
    "    print(f\"Fold {fold} Accuracy: {acc:.4f}\")\n",
    "\n",
    "print(f\"\\nMean Accuracy over 5 folds: {np.mean(accuracies):.4f}\")\n"
   ]
  },
  {
   "cell_type": "markdown",
   "metadata": {},
   "source": [
    "Task 3: Leave-One-Out Cross-Validation for Iris<br>\n",
    "Use LOOCV to assess model prediction for the Iris dataset."
   ]
  },
  {
   "cell_type": "code",
   "execution_count": 3,
   "metadata": {},
   "outputs": [
    {
     "name": "stdout",
     "output_type": "stream",
     "text": [
      "LOOCV Accuracy on Iris dataset: 0.9667\n"
     ]
    }
   ],
   "source": [
    "from sklearn.datasets import load_iris\n",
    "from sklearn.model_selection import LeaveOneOut\n",
    "from sklearn.linear_model import LogisticRegression\n",
    "from sklearn.metrics import accuracy_score\n",
    "import numpy as np\n",
    "\n",
    "# Load Iris dataset\n",
    "data = load_iris()\n",
    "X, y = data.data, data.target\n",
    "\n",
    "# Initialize Leave-One-Out Cross-Validation\n",
    "loo = LeaveOneOut()\n",
    "\n",
    "y_true, y_pred = [], []\n",
    "\n",
    "# Model\n",
    "model = LogisticRegression(max_iter=200)\n",
    "\n",
    "# Perform LOOCV\n",
    "for train_index, test_index in loo.split(X):\n",
    "    X_train, X_test = X[train_index], X[test_index]\n",
    "    y_train, y_test = y[train_index], y[test_index]\n",
    "    \n",
    "    model.fit(X_train, y_train)\n",
    "    prediction = model.predict(X_test)\n",
    "    \n",
    "    y_true.append(y_test[0])\n",
    "    y_pred.append(prediction[0])\n",
    "\n",
    "# Calculate overall accuracy\n",
    "accuracy = accuracy_score(y_true, y_pred)\n",
    "print(f\"LOOCV Accuracy on Iris dataset: {accuracy:.4f}\")\n"
   ]
  }
 ],
 "metadata": {
  "kernelspec": {
   "display_name": "Python 3",
   "language": "python",
   "name": "python3"
  },
  "language_info": {
   "codemirror_mode": {
    "name": "ipython",
    "version": 3
   },
   "file_extension": ".py",
   "mimetype": "text/x-python",
   "name": "python",
   "nbconvert_exporter": "python",
   "pygments_lexer": "ipython3",
   "version": "3.10.12"
  }
 },
 "nbformat": 4,
 "nbformat_minor": 2
}
