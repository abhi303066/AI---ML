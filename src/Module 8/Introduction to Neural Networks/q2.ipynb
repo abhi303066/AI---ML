{
 "cells": [
  {
   "cell_type": "code",
   "execution_count": 1,
   "metadata": {},
   "outputs": [],
   "source": [
    "# Question 2: Compare Biological and Artificial Neurons using Code\n",
    "# Description: Visualize how biological neurons and artificial neurons process information differently."
   ]
  },
  {
   "cell_type": "code",
   "execution_count": 1,
   "metadata": {},
   "outputs": [
    {
     "name": "stdout",
     "output_type": "stream",
     "text": [
      "Biological Neuron:\n",
      "  Total potential: 1.70\n",
      "  Did it fire? Yes\n",
      "\n",
      "Artificial Neuron:\n",
      "  Weighted sum: 0.52\n",
      "  Output: 1\n"
     ]
    },
    {
     "data": {
      "image/png": "[encoded data removed]",
      "text/plain": [
       "<Figure size 640x480 with 1 Axes>"
      ]
     },
     "metadata": {},
     "output_type": "display_data"
    }
   ],
   "source": [
    "import numpy as np\n",
    "import matplotlib.pyplot as plt\n",
    "\n",
    "# Simulating a simple biological neuron\n",
    "def biological_neuron(inputs, threshold=1.5):\n",
    "    \"\"\"\n",
    "    If the total input exceeds a threshold, the neuron 'fires'\n",
    "    \"\"\"\n",
    "    potential = sum(inputs)\n",
    "    fired = potential > threshold\n",
    "    return potential, fired\n",
    "\n",
    "# Simulating a simple artificial neuron (perceptron)\n",
    "def artificial_neuron(inputs, weights, bias):\n",
    "    \"\"\"\n",
    "    Computes weighted sum and applies a step activation\n",
    "    \"\"\"\n",
    "    weighted_sum = np.dot(inputs, weights) + bias\n",
    "    output = 1 if weighted_sum > 0 else 0  # Step function\n",
    "    return weighted_sum, output\n",
    "\n",
    "# Sample input signals\n",
    "inputs = [0.6, 0.8, 0.3]\n",
    "weights = [0.4, 0.9, 0.2]\n",
    "bias = -0.5\n",
    "\n",
    "# Get outputs\n",
    "bio_potential, bio_fired = biological_neuron(inputs)\n",
    "art_sum, art_output = artificial_neuron(inputs, weights, bias)\n",
    "\n",
    "# Display results\n",
    "print(\"Biological Neuron:\")\n",
    "print(f\"  Total potential: {bio_potential:.2f}\")\n",
    "print(f\"  Did it fire? {'Yes' if bio_fired else 'No'}\\n\")\n",
    "\n",
    "print(\"Artificial Neuron:\")\n",
    "print(f\"  Weighted sum: {art_sum:.2f}\")\n",
    "print(f\"  Output: {art_output}\")\n",
    "\n",
    "# Visualizing\n",
    "labels = ['Input1', 'Input2', 'Input3']\n",
    "x = np.arange(len(inputs))\n",
    "width = 0.35\n",
    "\n",
    "fig, ax = plt.subplots()\n",
    "ax.bar(x - width/2, inputs, width, label='Inputs')\n",
    "ax.bar(x + width/2, weights, width, label='Weights')\n",
    "\n",
    "ax.set_ylabel('Value')\n",
    "ax.set_title('Inputs vs Weights')\n",
    "ax.set_xticks(x)\n",
    "ax.set_xticklabels(labels)\n",
    "ax.legend()\n",
    "plt.show()\n"
   ]
  }
 ],
 "metadata": {
  "kernelspec": {
   "display_name": "Python 3",
   "language": "python",
   "name": "python3"
  },
  "language_info": {
   "codemirror_mode": {
    "name": "ipython",
    "version": 3
   },
   "file_extension": ".py",
   "mimetype": "text/x-python",
   "name": "python",
   "nbconvert_exporter": "python",
   "pygments_lexer": "ipython3",
   "version": "3.10.12"
  }
 },
 "nbformat": 4,
 "nbformat_minor": 2
}
