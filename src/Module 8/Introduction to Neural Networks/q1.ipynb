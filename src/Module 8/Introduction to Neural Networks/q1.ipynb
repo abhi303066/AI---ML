{
 "cells": [
  {
   "cell_type": "code",
   "execution_count": 1,
   "metadata": {},
   "outputs": [
    {
     "name": "stdout",
     "output_type": "stream",
     "text": [
      "Linear Regression Coefficients: [4.60714716 0.37693213 5.02847578]\n",
      "Ridge Regression Coefficients: [2.34758564 2.33297239 4.36420609]\n",
      "Linear Regression MSE: 0.006742878758661827\n",
      "Ridge Regression MSE: 0.045100919357462514\n"
     ]
    }
   ],
   "source": [
    "# Step 1: Import required libraries\n",
    "import numpy as np\n",
    "import pandas as pd\n",
    "from sklearn.linear_model import LinearRegression, Ridge\n",
    "from sklearn.metrics import mean_squared_error\n",
    "from sklearn.model_selection import train_test_split\n",
    "\n",
    "# Step 2: Create a synthetic dataset with multicollinearity\n",
    "np.random.seed(42)\n",
    "X1 = np.random.rand(100)\n",
    "X2 = X1 + np.random.normal(0, 0.01, 100)  # Highly correlated with X1\n",
    "X3 = np.random.rand(100)\n",
    "y = 3*X1 + 2*X2 + 5*X3 + np.random.normal(0, 0.1, 100)\n",
    "\n",
    "# Create DataFrame\n",
    "df = pd.DataFrame({'X1': X1, 'X2': X2, 'X3': X3, 'y': y})\n",
    "\n",
    "# Step 3: Train-Test Split\n",
    "X = df[['X1', 'X2', 'X3']]\n",
    "y = df['y']\n",
    "X_train, X_test, y_train, y_test = train_test_split(X, y, test_size=0.2, random_state=42)\n",
    "\n",
    "# Step 4: Train Linear Regression\n",
    "lin_reg = LinearRegression()\n",
    "lin_reg.fit(X_train, y_train)\n",
    "y_pred_lin = lin_reg.predict(X_test)\n",
    "mse_lin = mean_squared_error(y_test, y_pred_lin)\n",
    "\n",
    "# Step 5: Train Ridge Regression\n",
    "ridge_reg = Ridge(alpha=1.0)\n",
    "ridge_reg.fit(X_train, y_train)\n",
    "y_pred_ridge = ridge_reg.predict(X_test)\n",
    "mse_ridge = mean_squared_error(y_test, y_pred_ridge)\n",
    "\n",
    "# Step 6: Compare Results\n",
    "print(\"Linear Regression Coefficients:\", lin_reg.coef_)\n",
    "print(\"Ridge Regression Coefficients:\", ridge_reg.coef_)\n",
    "print(\"Linear Regression MSE:\", mse_lin)\n",
    "print(\"Ridge Regression MSE:\", mse_ridge)\n"
   ]
  }
 ],
 "metadata": {
  "kernelspec": {
   "display_name": "Python 3",
   "language": "python",
   "name": "python3"
  },
  "language_info": {
   "codemirror_mode": {
    "name": "ipython",
    "version": 3
   },
   "file_extension": ".py",
   "mimetype": "text/x-python",
   "name": "python",
   "nbconvert_exporter": "python",
   "pygments_lexer": "ipython3",
   "version": "3.10.12"
  }
 },
 "nbformat": 4,
 "nbformat_minor": 2
}
